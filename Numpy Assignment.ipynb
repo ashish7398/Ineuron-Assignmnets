{
 "cells": [
  {
   "cell_type": "markdown",
   "metadata": {},
   "source": [
    "### Problem Statement 1: Write a function so that the columns of the output matrix are powers of the input vector. The order of the powers is determined by the increasing boolean argument. Specifically, when  increasing is False, the i-th output column is the input vector raised element-wise to the power  of N - i - 1. \n",
    "### HINT: Such a matrix with a geometric progression in each row is named for Alexandre Theophile Vandermonde. \n"
   ]
  },
  {
   "cell_type": "code",
   "execution_count": 2,
   "metadata": {},
   "outputs": [],
   "source": [
    "import numpy as np\n",
    "def atv_matrix(input_vec, n, increasing=False):\n",
    "    \n",
    "    if not increasing:\n",
    "        atv_matrix = np.array([x**(n-1-i) for x in input_vec for i in range(n)]).reshape(input_vec.size,n)\n",
    "    elif increasing:\n",
    "        atv_matrix = np.array([x**i for x in input_vec for i in range(n)]).reshape(input_vec.size,n)\n",
    "    \n",
    "    return atv_matrix"
   ]
  },
  {
   "cell_type": "code",
   "execution_count": 5,
   "metadata": {},
   "outputs": [
    {
     "data": {
      "text/plain": [
       "array([[ 1,  1,  1],\n",
       "       [ 4,  2,  1],\n",
       "       [ 9,  3,  1],\n",
       "       [16,  4,  1]])"
      ]
     },
     "execution_count": 5,
     "metadata": {},
     "output_type": "execute_result"
    }
   ],
   "source": [
    "input_vec = np.arange(1,5,1)\n",
    "n=3\n",
    "atv_matrix(input_vec, n, increasing=False)"
   ]
  },
  {
   "cell_type": "markdown",
   "metadata": {},
   "source": [
    "### Problem Statement 2: Given a sequence of n values x1, x2, ..., xn and a window size k>0, the k-th moving average of  the given sequence is defined as follows: The moving average sequence has n-k+1 elements as shown below. The moving averages with k=4 of a ten-value sequence (n=10) is shown below \n",
    "### i 1 2 3 4 5 6 7 8 9 10 \n",
    "#### ===== == == == == == == == == == == \n",
    "#### Input 10 20 30 40 50 60 70 80 90 100  \n",
    "#### y1 25 = (10+20+30+40)/4 \n",
    "#### y2 35 = (20+30+40+50)/4 \n",
    "#### y3 45 = (30+40+50+60)/4 \n",
    "#### y4 55 = (40+50+60+70)/4 \n",
    "#### y5 65 = (50+60+70+80)/4 \n",
    "#### y6 75 = (60+70+80+90)/4 \n",
    "#### y7 85 = (70+80+90+100)/4 \n",
    "#### Question: Write a function to find moving average in an array over a window:  Test it over [3, 5, 7, 2, 8, 10, 11, 65, 72, 81, 99, 100, 150] and window of 3. \n"
   ]
  },
  {
   "cell_type": "code",
   "execution_count": 71,
   "metadata": {},
   "outputs": [],
   "source": [
    "def mov_avg_val(mylist, k):\n",
    "    cumsum, moving_aves = [0], []\n",
    "    for i, x in enumerate(mylist, 1):\n",
    "        cumsum.append(cumsum[i-1] + x) \n",
    "        if i>=k:\n",
    "            moving_ave = round(((cumsum[i] - cumsum[i-k])/k),2) \n",
    "            moving_aves.append(moving_ave) \n",
    "    print(\"Moving average values list: \", moving_aves)\n",
    "   "
   ]
  },
  {
   "cell_type": "code",
   "execution_count": 73,
   "metadata": {},
   "outputs": [
    {
     "name": "stdout",
     "output_type": "stream",
     "text": [
      "Moving average values list:  [5.0, 4.67, 5.67, 6.67, 9.67, 28.67, 49.33, 72.67, 84.0, 93.33, 116.33]\n"
     ]
    }
   ],
   "source": [
    "\n",
    "mylist = [3, 5, 7, 2, 8, 10, 11, 65, 72, 81, 99, 100, 150]\n",
    "k=3\n",
    "mov_avg_val(mylist, k)"
   ]
  },
  {
   "cell_type": "code",
   "execution_count": null,
   "metadata": {},
   "outputs": [],
   "source": []
  }
 ],
 "metadata": {
  "kernelspec": {
   "display_name": "Python 3",
   "language": "python",
   "name": "python3"
  },
  "language_info": {
   "codemirror_mode": {
    "name": "ipython",
    "version": 3
   },
   "file_extension": ".py",
   "mimetype": "text/x-python",
   "name": "python",
   "nbconvert_exporter": "python",
   "pygments_lexer": "ipython3",
   "version": "3.7.4"
  }
 },
 "nbformat": 4,
 "nbformat_minor": 2
}
